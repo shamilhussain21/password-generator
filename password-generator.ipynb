{
 "cells": [
  {
   "cell_type": "code",
   "execution_count": 8,
   "id": "258177dc-e151-4d2f-a3f4-5aecc88142f8",
   "metadata": {},
   "outputs": [
    {
     "name": "stdout",
     "output_type": "stream",
     "text": [
      "WELCOME TO THE PASSWORD GENERATOR!!!!\n"
     ]
    },
    {
     "name": "stdin",
     "output_type": "stream",
     "text": [
      "How many letters would you like in your password:  3\n",
      "How many numbers would you like:  3\n",
      "How many symbols would you like:  1\n"
     ]
    },
    {
     "name": "stdout",
     "output_type": "stream",
     "text": [
      "Here is your password: DK24G7:\n"
     ]
    }
   ],
   "source": [
    "import random\n",
    "import string\n",
    "\n",
    "def generate_password():\n",
    "    print(\"WELCOME TO THE PASSWORD GENERATOR!!!!\")\n",
    "\n",
    "    while True:\n",
    "        try:\n",
    "            limit_letter = int(input(\"How many letters would you like in your password: \"))\n",
    "            limit_num = int(input(\"How many numbers would you like: \"))\n",
    "            limit_symbol = int(input(\"How many symbols would you like: \"))\n",
    "\n",
    "\n",
    "            if limit_letter < 0 or limit_num < 0 or limit_symbol < 0:\n",
    "                print(\"Please enter non-negative numbers!\")\n",
    "                continue\n",
    "            break\n",
    "            \n",
    "        except ValueError:\n",
    "            print(\"Invalid input! Please enter numeric values.\")\n",
    "\n",
    "    alpha_random = random.choices(string.ascii_letters, k=limit_letter)\n",
    "    num_random = random.choices(string.digits, k=limit_num)\n",
    "    symbol_random = random.choices(string.punctuation, k=limit_symbol)\n",
    "\n",
    "    password = alpha_random + num_random + symbol_random\n",
    "    random.shuffle(password)\n",
    "\n",
    "    new_password = ''.join(password)\n",
    "    print(\"Here is your password:\", new_password)\n",
    "\n",
    "generate_password()\n"
   ]
  },
  {
   "cell_type": "code",
   "execution_count": null,
   "id": "40d90b76-c5a7-4e74-b68e-939ca72a7093",
   "metadata": {},
   "outputs": [],
   "source": []
  }
 ],
 "metadata": {
  "kernelspec": {
   "display_name": "Python 3 (ipykernel)",
   "language": "python",
   "name": "python3"
  },
  "language_info": {
   "codemirror_mode": {
    "name": "ipython",
    "version": 3
   },
   "file_extension": ".py",
   "mimetype": "text/x-python",
   "name": "python",
   "nbconvert_exporter": "python",
   "pygments_lexer": "ipython3",
   "version": "3.12.4"
  }
 },
 "nbformat": 4,
 "nbformat_minor": 5
}
